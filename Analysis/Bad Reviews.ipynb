{
 "cells": [
  {
   "cell_type": "markdown",
   "metadata": {},
   "source": [
    "This approach will analyze review ratings from certain customers. We can approach this through a sql query and output the data to a pandas dataframe to display the table."
   ]
  },
  {
   "cell_type": "code",
   "execution_count": 1,
   "metadata": {},
   "outputs": [
    {
     "name": "stdout",
     "output_type": "stream",
     "text": [
      "  customerId  firstName     lastName avgRating\n",
      "0          6     Violet  Heidenreich         1\n",
      "1         11  Clemencia         Howe         1\n",
      "2         20      Leigh         Hane         1\n",
      "3         34     Andrew       Hessel         1\n",
      "4         36       Seth        Lakin         1\n"
     ]
    }
   ],
   "source": [
    "import pyodbc\n",
    "import pandas as pd\n",
    "try:\n",
    "    cnx = pyodbc.connect(\"\"\"DRIVER={ODBC Driver 17 for SQL Server};\n",
    "                            SERVER=cosc304.ok.ubc.ca;\n",
    "                            DATABASE=analysis;\n",
    "                            UID=cosc304;\n",
    "                            PWD=cosc304\"\"\")\n",
    "    cursor = cnx.cursor()\n",
    "    cursor.execute(\"\"\"\n",
    "        SELECT TOP 5 customer.customerId, customer.firstName, customer.lastName, AVG(review.reviewRating) AS avgRating\n",
    "        FROM review JOIN customer ON review.customerId=customer.customerId\n",
    "        GROUP BY customer.customerId, customer.firstName, customer.lastName\n",
    "        ORDER BY avgRating ASC;\n",
    "    \"\"\")\n",
    "    \n",
    "    data = {'customerId': [],\n",
    "            'firstName': [],\n",
    "            'lastName': [],\n",
    "            'avgRating': []}\n",
    "    df = pd.DataFrame(data)\n",
    "\n",
    "    i = 0\n",
    "    for row in cursor:\n",
    "        df.loc[i] = [str(row[0]),str(row[1]),str(row[2]),str(row[3])]\n",
    "        i = i + 1\n",
    "        \n",
    "\n",
    "    print(df)\n",
    "\n",
    "except pyodbc.Error as err:\n",
    "    print(err)\n",
    "finally:\n",
    "    cnx.close()"
   ]
  },
  {
   "cell_type": "markdown",
   "metadata": {},
   "source": [
    "Based on this data, we can further investigate what went wrong these orders and products. When it comes to managing, we can use these as case studies of anomolies in our business design of shipment dysfunctions, product is broken, or whatever it is."
   ]
  }
 ],
 "metadata": {
  "kernelspec": {
   "display_name": "base",
   "language": "python",
   "name": "python3"
  },
  "language_info": {
   "codemirror_mode": {
    "name": "ipython",
    "version": 3
   },
   "file_extension": ".py",
   "mimetype": "text/x-python",
   "name": "python",
   "nbconvert_exporter": "python",
   "pygments_lexer": "ipython3",
   "version": "3.11.4"
  }
 },
 "nbformat": 4,
 "nbformat_minor": 2
}
