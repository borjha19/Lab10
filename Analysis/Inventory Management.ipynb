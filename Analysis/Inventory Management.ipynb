{
 "cells": [
  {
   "cell_type": "markdown",
   "metadata": {},
   "source": [
    "The approach here is find sales by warehouse. This can be done through sql query and outputting data into a table through pandas."
   ]
  },
  {
   "cell_type": "code",
   "execution_count": 1,
   "metadata": {},
   "outputs": [
    {
     "name": "stdout",
     "output_type": "stream",
     "text": [
      "        warehouseName         sales\n",
      "0  Winnipeg Warehouse  639749810.03\n",
      "1   Kelowna Warehouse  788777703.96\n",
      "2   Toronto Warehouse  734555335.92\n"
     ]
    }
   ],
   "source": [
    "import pandas as pd\n",
    "from sklearn.model_selection import train_test_split\n",
    "from sklearn.linear_model import LinearRegression\n",
    "from sklearn.metrics import mean_squared_error\n",
    "import matplotlib.pyplot as plt\n",
    "import pyodbc\n",
    "\n",
    "try:\n",
    "    cnx = pyodbc.connect(\"\"\"DRIVER={ODBC Driver 17 for SQL Server};\n",
    "                            SERVER=cosc304.ok.ubc.ca;\n",
    "                            DATABASE=analysis;\n",
    "                            UID=cosc304;\n",
    "                            PWD=cosc304\"\"\")\n",
    "    cursor = cnx.cursor()\n",
    "    cursor.execute(\"\"\"  SELECT \n",
    "                            w.warehouseName,\n",
    "                            SUM(op.price)*SUM(op.quantity) as sales\n",
    "                        FROM orderproduct op JOIN ordersummary os ON op.orderId=os.orderID\n",
    "                                            JOIN shipment s ON os.shipmentId=s.shipmentId\n",
    "                                            JOIN warehouse w on s.warehouseId=w.warehouseId\n",
    "                        GROUP BY w.warehouseName;\"\"\")\n",
    "    \n",
    "    data = {'warehouseName': [],\n",
    "            'sales': []}\n",
    "    table = pd.DataFrame(data)\n",
    "\n",
    "    i = 0\n",
    "    for row in cursor:\n",
    "        table.loc[i] = [str(row[0]), str(row[1])]\n",
    "        i=i+1\n",
    "\n",
    "    print(table)\n",
    "\n",
    "except pyodbc.Error as err:\n",
    "    print(err)\n",
    "finally:\n",
    "    cnx.close()"
   ]
  },
  {
   "cell_type": "markdown",
   "metadata": {},
   "source": [
    "According to the chart table, the best in sales is at Kelowna Warehouse. Thus, more resources, money and time must be spent there and there must be good employees and management. This can offer as a learning environment to see where Toronto and Winnipeg warehouses could be better based off further data as employee qualifications, hours, management style, and overall business workings."
   ]
  }
 ],
 "metadata": {
  "kernelspec": {
   "display_name": "base",
   "language": "python",
   "name": "python3"
  },
  "language_info": {
   "codemirror_mode": {
    "name": "ipython",
    "version": 3
   },
   "file_extension": ".py",
   "mimetype": "text/x-python",
   "name": "python",
   "nbconvert_exporter": "python",
   "pygments_lexer": "ipython3",
   "version": "3.11.4"
  }
 },
 "nbformat": 4,
 "nbformat_minor": 2
}
