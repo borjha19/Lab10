{
 "cells": [
  {
   "cell_type": "markdown",
   "metadata": {},
   "source": [
    "With this analysis, a simple sql query will work to identify the amount of orders done with each payment type. Outputted table using pandas dataframes."
   ]
  },
  {
   "cell_type": "code",
   "execution_count": 13,
   "metadata": {},
   "outputs": [
    {
     "name": "stdout",
     "output_type": "stream",
     "text": [
      "   count paymentType\n",
      "0    139        VISA\n",
      "1     47      PayPal\n",
      "2     12        AMEX\n",
      "3     91          MC\n",
      "4     39      PayPal\n",
      "5     23    ApplePay\n",
      "6    148        VISA\n",
      "7     13        AMEX\n",
      "8     33    ApplePay\n",
      "9     83          MC\n",
      "10   141        VISA\n",
      "11    50      PayPal\n",
      "12    14        AMEX\n",
      "13    30    ApplePay\n",
      "14   104          MC\n"
     ]
    }
   ],
   "source": [
    "import pandas as pd\n",
    "from sklearn.model_selection import train_test_split\n",
    "from sklearn.linear_model import LinearRegression\n",
    "from sklearn.metrics import mean_squared_error\n",
    "import matplotlib.pyplot as plt\n",
    "import pyodbc\n",
    "\n",
    "try:\n",
    "    cnx = pyodbc.connect(\"\"\"DRIVER={ODBC Driver 17 for SQL Server};\n",
    "                            SERVER=cosc304.ok.ubc.ca;\n",
    "                            DATABASE=analysis;\n",
    "                            UID=cosc304;\n",
    "                            PWD=cosc304\"\"\")\n",
    "    cursor = cnx.cursor()\n",
    "    cursor.execute(\"\"\"  SELECT \n",
    "                            COUNT(pm.paymentMethodId) as count,\n",
    "                            pm.paymentType\n",
    "                        FROM customer c JOIN paymentmethod pm ON c.customerId=pm.customerId\n",
    "                                        JOIN incart i ON c.customerId=i.customerId\n",
    "                                        JOIN orderproduct op ON i.productId=op.productId\n",
    "                                        JOIN ordersummary os ON op.orderId=os.orderId\n",
    "                        GROUP BY pm.paymentType, YEAR(os.orderDate)\n",
    "                        HAVING YEAR(os.orderDate) = 2022\"\"\")\n",
    "\n",
    "    data = {'count': [],\n",
    "            'paymentType': []}\n",
    "    table = pd.DataFrame(data)\n",
    "\n",
    "    i = 0\n",
    "    for row in cursor:\n",
    "        table.loc[i] = [str(row[0]), str(row[1])]\n",
    "        i=i+1\n",
    "\n",
    "    print(table)\n",
    "\n",
    "\n",
    "except pyodbc.Error as err:\n",
    "    print(err)\n",
    "finally:\n",
    "    cnx.close()"
   ]
  },
  {
   "cell_type": "markdown",
   "metadata": {},
   "source": [
    "With this analysis, its clear the general demographic of purchases are down with VISA by a good amount. For future years, this will most likely stay consistent, with a general static increase in amounts for each year. While looking at the data, paypal is going up a few each year, and the same goes for VISA. With little static change, this analysis seems clear."
   ]
  }
 ],
 "metadata": {
  "kernelspec": {
   "display_name": "base",
   "language": "python",
   "name": "python3"
  },
  "language_info": {
   "codemirror_mode": {
    "name": "ipython",
    "version": 3
   },
   "file_extension": ".py",
   "mimetype": "text/x-python",
   "name": "python",
   "nbconvert_exporter": "python",
   "pygments_lexer": "ipython3",
   "version": "3.11.4"
  }
 },
 "nbformat": 4,
 "nbformat_minor": 2
}
