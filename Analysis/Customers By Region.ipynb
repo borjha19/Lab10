{
 "cells": [
  {
   "cell_type": "markdown",
   "metadata": {},
   "source": [
    "With this analyzation, the approach is to get the sales by province for each year. We do this through a sql query. We create a dataframe , and pass in to the tables function our table column indexes, and the province and using pandas and LinearRegression from sklearn, we get the future predicted sales for 2023 and 2024. They are then outputted and printed as tables."
   ]
  },
  {
   "cell_type": "code",
   "execution_count": null,
   "metadata": {},
   "outputs": [],
   "source": [
    "import pandas as pd\n",
    "from sklearn.model_selection import train_test_split\n",
    "from sklearn.linear_model import LinearRegression\n",
    "from sklearn.metrics import mean_squared_error\n",
    "import matplotlib.pyplot as plt\n",
    "import pyodbc\n",
    "\n",
    "try:\n",
    "    cnx = pyodbc.connect(\"\"\"DRIVER={ODBC Driver 17 for SQL Server};\n",
    "                            SERVER=cosc304.ok.ubc.ca;\n",
    "                            DATABASE=analysis;\n",
    "                            UID=cosc304;\n",
    "                            PWD=cosc304\"\"\")\n",
    "    cursor = cnx.cursor()\n",
    "    cursor.execute(\"\"\"  SELECT \n",
    "                            c.state,\n",
    "                            SUM(op.quantity)*SUM(op.price) as sales,\n",
    "                            YEAR(os.orderDate) as year\n",
    "                        FROM customer c JOIN incart i ON c.customerId=i.customerId\n",
    "                                        JOIN orderproduct op ON i.productId=op.productId\n",
    "                                        JOIN ordersummary os ON op.orderId=os.orderId\n",
    "                        GROUP BY c.state, YEAR(os.orderDate)\n",
    "                        HAVING YEAR(os.orderDate) BETWEEN 2020 AND 2023\n",
    "                        ORDER BY c.state\"\"\")\n",
    "\n",
    "    data = {'sales': [],\n",
    "            'province': [],\n",
    "            'year': []}\n",
    "    df = pd.DataFrame(data)\n",
    "\n",
    "    i = 0\n",
    "    for row in cursor:\n",
    "        df.loc[i] = [str(row[0]), str(row[1]), str(row[2])]\n",
    "        i=i+1\n",
    "    \n",
    "    def tables(df, province, row1, row2):\n",
    "        table = df[row1:row2]\n",
    "        model = LinearRegression()\n",
    "        model.fit(table[['province','year']], table['sales'])\n",
    "        test_2023 = pd.DataFrame({'province':[province], 'year':[2023]})\n",
    "        test_2024 = pd.DataFrame({'province':[province], 'year':[2024]})\n",
    "        sales_2023 = model.predict(test_2023)\n",
    "        sales_2024 = model.predict(test_2024)\n",
    "        row1 = pd.DataFrame({'sales':sales_2023, 'province':province, 'year':2023})\n",
    "        row2 = pd.DataFrame({'sales':sales_2024, 'province':province, 'year':2024})\n",
    "        table = pd.concat([table, row1], ignore_index=True)\n",
    "        table = pd.concat([table, row2], ignore_index=True)\n",
    "        return table\n",
    "    \n",
    "    print(tables(df, 'AB', 0, 3))\n",
    "    print(tables(df, 'BC', 4, 7))\n",
    "    print(tables(df, 'MB', 8, 11))\n",
    "    print(tables(df, 'NF', 12, 15))\n",
    "    print(tables(df, 'NS', 16, 19))\n",
    "    print(tables(df, 'PE', 20, 23))\n",
    "    print(tables(df, 'QC', 24, 27))\n",
    "\n",
    "except pyodbc.Error as err:\n",
    "    print(err)\n",
    "finally:\n",
    "    cnx.close()"
   ]
  },
  {
   "cell_type": "markdown",
   "metadata": {},
   "source": [
    "Based on the data provided..."
   ]
  }
 ],
 "metadata": {
  "language_info": {
   "name": "python"
  }
 },
 "nbformat": 4,
 "nbformat_minor": 2
}
